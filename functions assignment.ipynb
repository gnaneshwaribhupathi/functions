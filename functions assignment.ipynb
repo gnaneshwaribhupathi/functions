{
 "cells": [
  {
   "cell_type": "code",
   "execution_count": 1,
   "id": "78d0ba4f",
   "metadata": {},
   "outputs": [],
   "source": [
    "#FUNCTIONS HOMEWORK:"
   ]
  },
  {
   "cell_type": "code",
   "execution_count": 2,
   "id": "305f3f2a",
   "metadata": {},
   "outputs": [],
   "source": [
    "def f3(x,y,z):\n",
    "    if x>y and x>z:\n",
    "         print(x)\n",
    "    elif y>x and y>z:\n",
    "        print(y)\n",
    "    else:\n",
    "        print(z)\n"
   ]
  },
  {
   "cell_type": "code",
   "execution_count": 3,
   "id": "8a121054",
   "metadata": {},
   "outputs": [
    {
     "name": "stdout",
     "output_type": "stream",
     "text": [
      "100\n"
     ]
    }
   ],
   "source": [
    "f3(100,20,30)"
   ]
  },
  {
   "cell_type": "code",
   "execution_count": 4,
   "id": "3579d8ab",
   "metadata": {},
   "outputs": [
    {
     "name": "stdout",
     "output_type": "stream",
     "text": [
      "100\n"
     ]
    }
   ],
   "source": [
    "f3(20,30,100)"
   ]
  },
  {
   "cell_type": "code",
   "execution_count": 7,
   "id": "db178bce",
   "metadata": {},
   "outputs": [],
   "source": [
    "def f3(x,y,z):\n",
    "    if x<y and x<z:\n",
    "         print(x)\n",
    "    elif y<x and y<z:\n",
    "        print(y)\n",
    "    else:\n",
    "        print(z)\n"
   ]
  },
  {
   "cell_type": "code",
   "execution_count": 8,
   "id": "3a2193e9",
   "metadata": {},
   "outputs": [
    {
     "name": "stdout",
     "output_type": "stream",
     "text": [
      "10\n"
     ]
    }
   ],
   "source": [
    "f3(10,11,12)"
   ]
  },
  {
   "cell_type": "code",
   "execution_count": 9,
   "id": "5a857ee2",
   "metadata": {},
   "outputs": [
    {
     "name": "stdout",
     "output_type": "stream",
     "text": [
      "10\n"
     ]
    }
   ],
   "source": [
    "f3(12,10,11)"
   ]
  },
  {
   "cell_type": "code",
   "execution_count": 4,
   "id": "851d4136",
   "metadata": {},
   "outputs": [
    {
     "name": "stdout",
     "output_type": "stream",
     "text": [
      "number of upper case letters are : 5\n",
      "number of lower case letters: 22\n"
     ]
    }
   ],
   "source": [
    "def strings(x):\n",
    "    i=0\n",
    "    l=0\n",
    "    n=0\n",
    "    while i<len(x):\n",
    "                if x[i].isupper():\n",
    "                    l=l+1 \n",
    "                elif x[i].islower():\n",
    "                    n=n+1\n",
    "                i=i+1\n",
    "    print(\"number of upper case letters are :\",l)\n",
    "    print(\"number of lower case letters:\",n)\n",
    "strings(\"MY Name is GnaneshwariBhupathi.\")"
   ]
  },
  {
   "cell_type": "code",
   "execution_count": 12,
   "id": "ff14142b",
   "metadata": {},
   "outputs": [],
   "source": [
    "def f2(i):\n",
    "     while i!=0:\n",
    "            if i<=101 and i>=1:\n",
    "                 print(\"in range.\")\n",
    "            else: \n",
    "                 print(\"not in range.\")\n",
    "            break\n"
   ]
  },
  {
   "cell_type": "code",
   "execution_count": 13,
   "id": "5ac37e40",
   "metadata": {},
   "outputs": [
    {
     "name": "stdout",
     "output_type": "stream",
     "text": [
      "not in range.\n"
     ]
    }
   ],
   "source": [
    "f2(201)"
   ]
  },
  {
   "cell_type": "code",
   "execution_count": 14,
   "id": "1299cd66",
   "metadata": {},
   "outputs": [
    {
     "name": "stdout",
     "output_type": "stream",
     "text": [
      "in range.\n"
     ]
    }
   ],
   "source": [
    "f2(25)"
   ]
  },
  {
   "cell_type": "code",
   "execution_count": 17,
   "id": "4673f043",
   "metadata": {},
   "outputs": [],
   "source": [
    "def f5(y):\n",
    "        if y%2!=0 and y%3!=0 and y%5!=0 and y%7!=0 :\n",
    "                            print(y, \" is prime num.\")\n",
    "        elif y==5 or y==7 or y==3 or y==2:\n",
    "                            print(y,\" is prime num.\")\n",
    "        else:\n",
    "            print(y,\" is not prime number.\")\n",
    "                            "
   ]
  },
  {
   "cell_type": "code",
   "execution_count": 18,
   "id": "333467e8",
   "metadata": {},
   "outputs": [
    {
     "name": "stdout",
     "output_type": "stream",
     "text": [
      "2  is prime num.\n"
     ]
    }
   ],
   "source": [
    "f5(2)"
   ]
  },
  {
   "cell_type": "code",
   "execution_count": 19,
   "id": "a2651e2b",
   "metadata": {},
   "outputs": [
    {
     "name": "stdout",
     "output_type": "stream",
     "text": [
      "25  is not prime number.\n"
     ]
    }
   ],
   "source": [
    "f5(25)"
   ]
  },
  {
   "cell_type": "code",
   "execution_count": 20,
   "id": "1d08935c",
   "metadata": {},
   "outputs": [],
   "source": [
    "def palandrome(x):\n",
    "            if x==x[::-1]:\n",
    "                   print(x,\"is palandrome\")\n",
    "            else:\n",
    "                   print(x,\"is not palanadrome\")\n"
   ]
  },
  {
   "cell_type": "code",
   "execution_count": 21,
   "id": "5ec65a36",
   "metadata": {},
   "outputs": [
    {
     "name": "stdout",
     "output_type": "stream",
     "text": [
      "'malayalam' is palandrome\n"
     ]
    }
   ],
   "source": [
    "palandrome(\"'malayalam'\")"
   ]
  },
  {
   "cell_type": "code",
   "execution_count": 22,
   "id": "21564aef",
   "metadata": {},
   "outputs": [
    {
     "name": "stdout",
     "output_type": "stream",
     "text": [
      "'cricket' is not palanadrome\n"
     ]
    }
   ],
   "source": [
    "palandrome(\"'cricket'\")"
   ]
  },
  {
   "cell_type": "code",
   "execution_count": 23,
   "id": "05ff67bc",
   "metadata": {},
   "outputs": [
    {
     "name": "stdout",
     "output_type": "stream",
     "text": [
      "'wow' is palandrome\n"
     ]
    }
   ],
   "source": [
    "palandrome(\"'wow'\")"
   ]
  },
  {
   "cell_type": "code",
   "execution_count": null,
   "id": "edebceb0",
   "metadata": {},
   "outputs": [],
   "source": []
  }
 ],
 "metadata": {
  "kernelspec": {
   "display_name": "Python 3 (ipykernel)",
   "language": "python",
   "name": "python3"
  },
  "language_info": {
   "codemirror_mode": {
    "name": "ipython",
    "version": 3
   },
   "file_extension": ".py",
   "mimetype": "text/x-python",
   "name": "python",
   "nbconvert_exporter": "python",
   "pygments_lexer": "ipython3",
   "version": "3.9.12"
  }
 },
 "nbformat": 4,
 "nbformat_minor": 5
}
